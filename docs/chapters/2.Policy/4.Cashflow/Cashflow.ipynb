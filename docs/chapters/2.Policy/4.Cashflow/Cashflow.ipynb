{
 "cells": [
  {
   "cell_type": "code",
   "execution_count": null,
   "id": "db1f953d-c147-4f0b-a1e0-2dd8f57abf7d",
   "metadata": {
    "tags": [
     "remove-cell",
     "thebe-init"
    ]
   },
   "outputs": [
    {
     "name": "stderr",
     "output_type": "stream",
     "text": [
      "\u001b[32m\u001b[1m  Activating\u001b[22m\u001b[39m project at `C:\\Users\\User-PC\\PythonProjects\\Tricycle\\TMP`"
     ]
    }
   ],
   "source": [
    "cd(\"../../../\")\n",
    "\n",
    "using Pkg\n",
    "\n",
    "Pkg.activate(\".\")\n",
    "# Pkg.update(\"StLifeIns\")\n",
    "Pkg.instantiate()\n",
    "Pkg.precompile()"
   ]
  },
  {
   "cell_type": "code",
   "execution_count": 1,
   "id": "0a9a0368-f9f1-410b-8c90-6f2312019162",
   "metadata": {
    "tags": [
     "remove-cell",
     "thebe-init"
    ]
   },
   "outputs": [],
   "source": [
    "using StLifeIns\n",
    "setCPU()\n",
    "using Distributions"
   ]
  },
  {
   "cell_type": "markdown",
   "id": "670baa42-2777-42fb-b8bc-2811814f44f7",
   "metadata": {},
   "source": [
    "(cashflows)=\n",
    "# Cashflows"
   ]
  },
  {
   "cell_type": "markdown",
   "id": "c47b9510-a833-4e39-9e2c-1edd415cb6fe",
   "metadata": {},
   "source": [
    "Cashflows are effectively defined by a cashflow structure (amount and timing) paired with a chosen [Contingency](contingency)."
   ]
  },
  {
   "cell_type": "markdown",
   "id": "adc36f8a-cbc3-49ab-84b9-c0c18a499a1b",
   "metadata": {},
   "source": [
    "```{important}\n",
    "When specifying cashflow amounts, it's important to specify whether the cashflow is positive or negative, e.g. Premiums are positive, where as Benefits and Expenses are negative.\n",
    "```"
   ]
  },
  {
   "cell_type": "markdown",
   "id": "15d49098-b4f4-40e8-988c-29455c5c8d46",
   "metadata": {
    "tags": []
   },
   "source": [
    "(simple_cf)=\n",
    "## SimpleCashflows"
   ]
  },
  {
   "cell_type": "markdown",
   "id": "807b996a-dbb0-4fc2-8626-1ce720e210ef",
   "metadata": {},
   "source": [
    "SimpleCashflows are structures with the primary goal of simplifying the interface for the user. They are used for many policy products and provide predictable and intuitive outputs.\n",
    "\n",
    "In the background of the code, SimpleCashflows are converted into more mathematically accessible cashflows in the form of [CompleteCashflows](complete_cf).\n",
    "\n",
    "The scope of SimpleCashflows is limited at this point in time, however, it would be fairly simple to define additional SimpleCashflows if and when needed."
   ]
  },
  {
   "cell_type": "markdown",
   "id": "bd8cbdba-5a86-4048-9547-5ce6af4a4b2a",
   "metadata": {},
   "source": [
    "(recurring_cf)=\n",
    "### RecurringCashflow"
   ]
  },
  {
   "cell_type": "markdown",
   "id": "9a07557c-f9e2-499a-b9d8-ab8ef5e08feb",
   "metadata": {},
   "source": [
    "A RecurringCashflow is a cashflow that happens at predictable, equally-spaced intervals, e.g. every month, and where the payment value stays the same or grows with a prespecified fixed growth rate."
   ]
  },
  {
   "cell_type": "code",
   "execution_count": 5,
   "id": "d248645e-e01e-4531-ae5f-3c656bc510e8",
   "metadata": {},
   "outputs": [
    {
     "data": {
      "text/plain": [
       "RecurringCashflow(\"Premium\", 100.0, 0.0, 1, 12, false, InForce())"
      ]
     },
     "execution_count": 5,
     "metadata": {},
     "output_type": "execute_result"
    }
   ],
   "source": [
    "cf_name = \"Premium\"\n",
    "frequency = 12 # monthly\n",
    "monthly_payment = 100\n",
    "esc = 0 # (yearly effective growth rate)\n",
    "first_payment_month = 1\n",
    "arrears = false # in advance (start of month)\n",
    "contingency = InForce()\n",
    "\n",
    "RecurringCashflow(cf_name, monthly_payment, esc, first_payment_month, frequency, arrears, contingency)"
   ]
  },
  {
   "cell_type": "markdown",
   "id": "a6d586e4-aa33-441e-81d6-b1b8bebbcd26",
   "metadata": {},
   "source": [
    "```{danger}\n",
    "A RecurringCashflow should only be used with the [InForce](inforce) contingency.\n",
    "```"
   ]
  },
  {
   "cell_type": "markdown",
   "id": "544e3aff-f914-461f-bf6c-eeeaec885aee",
   "metadata": {},
   "source": [
    "### AnyTimeCashflow"
   ]
  },
  {
   "cell_type": "markdown",
   "id": "a1c3c33b-ad55-4807-a68d-df5ec6244200",
   "metadata": {},
   "source": [
    "An AnyTimeCashflow is meant for cashflows where the timing of payment is unknown, i.e. it can happen at any time."
   ]
  },
  {
   "cell_type": "code",
   "execution_count": 17,
   "id": "3c46a78c-7689-4b4e-8f0d-02502210675f",
   "metadata": {},
   "outputs": [
    {
     "data": {
      "text/plain": [
       "AnyTimeCashflow(\"Death Benefit\", -1.0e6, 0.05, true, OnDeath())"
      ]
     },
     "execution_count": 17,
     "metadata": {},
     "output_type": "execute_result"
    }
   ],
   "source": [
    "cf_name = \"Death Benefit\"\n",
    "benefit_amount = -1000000\n",
    "esc = 0.05 # grows by 5% every year\n",
    "arrears = true\n",
    "contingency = OnDeath()\n",
    "\n",
    "AnyTimeCashflow(cf_name, benefit_amount, esc, arrears, contingency)"
   ]
  },
  {
   "cell_type": "markdown",
   "id": "6e4cdb32-8cb7-4bb5-a100-8d443e4d08b7",
   "metadata": {},
   "source": [
    "```{danger}\n",
    "An AnyTimeCashflow should only be used with the [OnDeath](inforce) or [OnTermination](ontermination) contingencies.\n",
    "```"
   ]
  },
  {
   "cell_type": "markdown",
   "id": "7cdb9bd0-c2d5-45da-af58-057357d8533f",
   "metadata": {},
   "source": [
    "(complete_cf)=\n",
    "## CompleteCashflows"
   ]
  },
  {
   "cell_type": "markdown",
   "id": "beb1d669-acec-4407-9e35-e68310b7afe9",
   "metadata": {},
   "source": [
    "CompleteCashflows are more immediately mathematically tractable than [SimpleCashflows](simple_cf). This does not, however, mean that they are inherently more complex (as will be seen from the [ZeroCashflow](zero_cf) and [PointCashflow](point_cf))."
   ]
  },
  {
   "cell_type": "markdown",
   "id": "375124ee-3cfc-4145-ac20-b58dcca9fe5a",
   "metadata": {},
   "source": [
    "(point_cf)=\n",
    "### PointCashflow"
   ]
  },
  {
   "cell_type": "markdown",
   "id": "92da21c4-b1ea-441f-b236-6bc90d51f167",
   "metadata": {},
   "source": [
    "A PointCashflow is a cashflow of which the amount and timing are known, but is still contingent on some [Contingency](contingency)."
   ]
  },
  {
   "cell_type": "code",
   "execution_count": 16,
   "id": "1b7bb066-448f-42c2-bc97-4901b5eb2cc9",
   "metadata": {},
   "outputs": [
    {
     "data": {
      "text/plain": [
       "PointCashflow(\"Survival Benefit\", -1.0e6, 120, true, InForce())"
      ]
     },
     "execution_count": 16,
     "metadata": {},
     "output_type": "execute_result"
    }
   ],
   "source": [
    "cf_name = \"Survival Benefit\"\n",
    "amount = -1000000\n",
    "time = 120\n",
    "arrears = true\n",
    "contingency = InForce()\n",
    "\n",
    "PointCashflow(cf_name, amount, time, arrears, contingency)"
   ]
  },
  {
   "cell_type": "markdown",
   "id": "89c46d15-4bae-48cd-a9e5-3e564e13e8a5",
   "metadata": {},
   "source": [
    "(zero_cf)=\n",
    "### ZeroCashflow"
   ]
  },
  {
   "cell_type": "markdown",
   "id": "d4919866-4a85-47f4-a72b-5cbfc89265dc",
   "metadata": {},
   "source": [
    "A cashflow with no payment and therefore also no contingency. It is unlikely that such a cashflow would be specified explicitly by the user, but it can be especially useful in the background code."
   ]
  },
  {
   "cell_type": "code",
   "execution_count": 14,
   "id": "fe673f29-5c9c-45a6-be29-d4930bd2c499",
   "metadata": {},
   "outputs": [
    {
     "data": {
      "text/plain": [
       "ZeroCashflow(\"Term Assurance Benefit Not Paid\")"
      ]
     },
     "execution_count": 14,
     "metadata": {},
     "output_type": "execute_result"
    }
   ],
   "source": [
    "cf_name = \"Term Assurance Benefit Not Paid\"\n",
    "ZeroCashflow(cf_name)"
   ]
  },
  {
   "cell_type": "markdown",
   "id": "2c1a04ee-72d6-4d79-8e73-f77ad039251b",
   "metadata": {},
   "source": [
    "(vector_cf)=\n",
    "### VectorCashflow"
   ]
  },
  {
   "cell_type": "markdown",
   "id": "4f7a9704-b575-4b3d-80de-a52236e3de7a",
   "metadata": {},
   "source": [
    "A particularly flexible cashflow that takes a vector of monthly payments, where the position in the vector defines the timing of the payment."
   ]
  },
  {
   "cell_type": "code",
   "execution_count": 19,
   "id": "fd74acc0-54db-4a3c-a2f2-8acaf2331059",
   "metadata": {},
   "outputs": [
    {
     "data": {
      "text/plain": [
       "VectorCashflow(\"Inconsitent Premiums for 6 months\", [100.0, 0.0, 200.0, 0.0, 150.0, 20.0], false, InForce())"
      ]
     },
     "execution_count": 19,
     "metadata": {},
     "output_type": "execute_result"
    }
   ],
   "source": [
    "cf_name = \"Inconsitent Premiums for 6 months\"\n",
    "payment_amounts = [100, 0, 200, 0, 150, 20]\n",
    "arrears = false # in advance\n",
    "contingency = InForce()\n",
    "\n",
    "VectorCashflow(cf_name, payment_amounts, arrears, contingency)"
   ]
  },
  {
   "cell_type": "markdown",
   "id": "e935503b-dd39-461a-8654-8f6e47ee66be",
   "metadata": {},
   "source": [
    "```{note}\n",
    "Where a cashflow can more easily be defined, it is recommended to define a [SimpleCashflow](simple_cf) and an accompanying [complete function](complete).\n",
    "```"
   ]
  },
  {
   "cell_type": "markdown",
   "id": "53c7ecec-f900-4d89-8308-b03bda9baa71",
   "metadata": {},
   "source": [
    "```{hint}\n",
    "By combining a vector with strategically placed zeroes and a suitable [Contingency](contingency), very complex cashflows can be created.\n",
    "```"
   ]
  },
  {
   "cell_type": "markdown",
   "id": "3b67c6c8-d84a-4a46-8410-f27b847402bc",
   "metadata": {},
   "source": [
    "(parallel_cf))=\n",
    "## ParallelCashflows"
   ]
  },
  {
   "cell_type": "markdown",
   "id": "99702491-3355-43c9-a600-9c43d6b7f501",
   "metadata": {},
   "source": [
    "Up to this point, while the cashflow objects have been uncertain in the sense that they were linked to a contingency, there has been no uncertainty in the actual payment amount.\n",
    "\n",
    "ParallelCashflows exist for the cases where the cashflow amount itself is uncertain. An additional dimension is added to store cashflow amounts under every simulation."
   ]
  },
  {
   "cell_type": "markdown",
   "id": "d5a64832-f58e-4a31-bc98-61d868bb7e50",
   "metadata": {},
   "source": [
    "```{note}\n",
    "ParallelCashflows were primarily added to allow expense cashflows to vary with inflation, however, they are more flexible than this and can be used in other advanced circumstances.\n",
    "```"
   ]
  },
  {
   "cell_type": "markdown",
   "id": "a24f4a05-bc36-4891-b9e2-ad2b8d008c53",
   "metadata": {},
   "source": [
    "### ParallelPointCashflow"
   ]
  },
  {
   "cell_type": "markdown",
   "id": "e0807b6c-4649-4f7d-8e8d-828cd5e80657",
   "metadata": {},
   "source": [
    "A ParallelPointCashflow is used when only a single payment at a known time will occur, but the payment amount is variable under different simulations. It is effectively a [PointCashflow](point_cf) with unknown payment amount."
   ]
  },
  {
   "cell_type": "code",
   "execution_count": 82,
   "id": "135872d5-9858-4ec3-b71f-2ac483e7e620",
   "metadata": {},
   "outputs": [
    {
     "data": {
      "text/plain": [
       "ParallelPointCashflow(\"Survival Claim Expense with Inflation\", [158.94533707693844, 161.93836313165642], 120, true, InForce())"
      ]
     },
     "execution_count": 82,
     "metadata": {},
     "output_type": "execute_result"
    }
   ],
   "source": [
    "cf_name = \"Survival Claim Expense with Inflation\"\n",
    "amount = 100\n",
    "time = 120 # 10 years from contract start\n",
    "arrears = true\n",
    "contingency = InForce()\n",
    "\n",
    "nsims = 2\n",
    "inflation_distribution = Normal(0.05, 0.02)\n",
    "inflation = rand(inflation_distribution, nsims, time)\n",
    "inflation_fact = (1 .+ inflation).^(1/12)\n",
    "cum_infl = cumprod(inflation_fact, dims=2)[:, time]\n",
    "amount = amount * cum_infl\n",
    "\n",
    "ParallelPointCashflow(cf_name, amount, time, arrears, contingency)"
   ]
  },
  {
   "cell_type": "markdown",
   "id": "5265f107-b12c-4f51-bde9-7aeba6472065",
   "metadata": {},
   "source": [
    "### ParallelVectorCashflow"
   ]
  },
  {
   "cell_type": "markdown",
   "id": "87658a42-1bdf-40d9-a6a4-8722a0982093",
   "metadata": {},
   "source": [
    "A ParallelVectorCashflow is used when several payments may be made at potentially unknown times and of unknown amount. A ParallelVectorCashflow is effectively a [VectorCashflow](vector_cf) with unknown payment values."
   ]
  },
  {
   "cell_type": "code",
   "execution_count": 83,
   "id": "e41f6cbf-9c1b-44d1-8e4b-0b8aaf794703",
   "metadata": {},
   "outputs": [
    {
     "data": {
      "text/plain": [
       "ParallelVectorCashflow(\"Regular Expenses with Inflation\", [100.46579098087989 101.08879384989325 101.33123448700545; 100.23416499024376 100.64486523545635 101.26421720958159], true, InForce())"
      ]
     },
     "execution_count": 83,
     "metadata": {},
     "output_type": "execute_result"
    }
   ],
   "source": [
    "cf_name = \"Regular Expenses with Inflation\"\n",
    "amount = 100\n",
    "time = 3 # 3 months from contract start\n",
    "arrears = true\n",
    "contingency = InForce()\n",
    "\n",
    "nsims = 2\n",
    "inflation_distribution = Normal(0.05, 0.02)\n",
    "inflation = rand(inflation_distribution, nsims, time)\n",
    "inflation_fact = (1 .+ inflation).^(1/12)\n",
    "cum_infl = cumprod(inflation_fact, dims=2)\n",
    "amount = amount * cum_infl\n",
    "\n",
    "ParallelVectorCashflow(cf_name, amount, arrears, contingency)"
   ]
  }
 ],
 "metadata": {
  "kernelspec": {
   "display_name": "Julia 1.7.2",
   "language": "julia",
   "name": "julia-1.7"
  },
  "language_info": {
   "file_extension": ".jl",
   "mimetype": "application/julia",
   "name": "julia",
   "version": "1.7.2"
  }
 },
 "nbformat": 4,
 "nbformat_minor": 5
}
