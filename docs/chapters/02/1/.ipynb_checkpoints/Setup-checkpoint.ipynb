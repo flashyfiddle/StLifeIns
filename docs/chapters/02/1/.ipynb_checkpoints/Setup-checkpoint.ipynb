{
 "cells": [
  {
   "cell_type": "code",
   "execution_count": 2,
   "id": "0c665800-73d8-4ac5-9f73-8dc837a23974",
   "metadata": {
    "tags": [
     "remove-cell",
     "thebe-init"
    ]
   },
   "outputs": [
    {
     "name": "stderr",
     "output_type": "stream",
     "text": [
      "\u001b[32m\u001b[1m  Activating\u001b[22m\u001b[39m project at `C:\\Users\\User-PC\\PythonProjects\\Tricycle\\StLifeIns`\n"
     ]
    }
   ],
   "source": [
    "cd(\"../../../\")\n",
    "\n",
    "using Pkg\n",
    "\n",
    "Pkg.activate(\".\")\n",
    "# Pkg.update(\"StLifeIns\")\n",
    "Pkg.instantiate()\n",
    "Pkg.precompile()"
   ]
  },
  {
   "cell_type": "markdown",
   "id": "5c5bd496-0530-43c8-ab85-ad7bade04cf5",
   "metadata": {},
   "source": [
    "# Setup"
   ]
  },
  {
   "cell_type": "markdown",
   "id": "be378327-b9e2-4ef3-ac0d-c190340fc351",
   "metadata": {},
   "source": [
    "After installing the Package, the package can be used with"
   ]
  },
  {
   "cell_type": "code",
   "execution_count": 3,
   "id": "53572bb8-33e5-4477-8924-402091abfd8f",
   "metadata": {
    "tags": []
   },
   "outputs": [],
   "source": [
    "using StLifeIns"
   ]
  },
  {
   "cell_type": "markdown",
   "id": "32e1b841-73fe-48c2-ad06-5ec0e5b6400d",
   "metadata": {},
   "source": [
    "It is important to also set the [processor](set_processor), [maximum age](max_age) and the [current date](year_mon)."
   ]
  },
  {
   "cell_type": "markdown",
   "id": "82729ee5-2d89-4003-b241-608f9cdba7ca",
   "metadata": {},
   "source": [
    "(set_processor)=\n",
    "## CPU and GPU"
   ]
  },
  {
   "cell_type": "markdown",
   "id": "e5cd375a-bc95-42b6-8c10-9a0940e6bd66",
   "metadata": {},
   "source": [
    "The StLifeIns package can be used with either CPU or GPU without any additional instalation. All that's required is to make use of the _setGPU_ and _setCPU_ functions."
   ]
  },
  {
   "cell_type": "markdown",
   "id": "e3a35036-4760-49d4-b2a0-21599fbe4d7a",
   "metadata": {},
   "source": [
    "For large valuations of many policies, it is recommended to set computation to the GPU which should be several times faster than the CPU, albeit sacrificing some accuracy which in most cases should be negligent.\n",
    "\n",
    "The CPU would be faster and more accurate for smaller valuations."
   ]
  },
  {
   "cell_type": "markdown",
   "id": "b0ef8c84-761f-4dad-9d91-fa8fe861b10d",
   "metadata": {},
   "source": [
    "To switch to GPU"
   ]
  },
  {
   "cell_type": "code",
   "execution_count": 23,
   "id": "b3728a0e-f0dd-4617-9bfe-72c67ba25036",
   "metadata": {
    "tags": [
     "remove-output"
    ]
   },
   "outputs": [
    {
     "data": {
      "text/plain": [
       "true"
      ]
     },
     "execution_count": 23,
     "metadata": {},
     "output_type": "execute_result"
    }
   ],
   "source": [
    "setGPU()"
   ]
  },
  {
   "cell_type": "markdown",
   "id": "5c460792-74e5-4840-a7df-ac289f74a0b0",
   "metadata": {},
   "source": [
    "To switch to CPU"
   ]
  },
  {
   "cell_type": "code",
   "execution_count": 14,
   "id": "de49e311-c539-4a91-8213-ad8f68c4b22e",
   "metadata": {
    "tags": [
     "remove-output"
    ]
   },
   "outputs": [
    {
     "data": {
      "text/plain": [
       "false"
      ]
     },
     "execution_count": 14,
     "metadata": {},
     "output_type": "execute_result"
    }
   ],
   "source": [
    "setCPU()"
   ]
  },
  {
   "cell_type": "markdown",
   "id": "3e8e38cc-ecb1-403f-bb34-52fbe797e80a",
   "metadata": {},
   "source": [
    "```{warning}\n",
    "There is no default processor currently. One of setGPU() or setCPU() must be run before starting\n",
    "```"
   ]
  },
  {
   "cell_type": "markdown",
   "id": "13027a4b-7226-44a5-a861-00f6381a0598",
   "metadata": {
    "tags": []
   },
   "source": [
    "(max_age)=\n",
    "## Maximum Age"
   ]
  },
  {
   "cell_type": "markdown",
   "id": "846d07e0-7dca-4c74-be53-6d8b3145b103",
   "metadata": {},
   "source": [
    "Given that there's a non-zero probability of a life surviving past any arbitray age, it's necessary to invoke a maximum age beyond which the probability is defined to be 0. Traditionally the maximum age is defined by the final age available in any mortality model being used. With stochastic models, however, the maximum age needs to be specified slightly more explicitly."
   ]
  },
  {
   "cell_type": "code",
   "execution_count": 15,
   "id": "ba3a6ef5-8c70-4be5-9ebf-ecd52495b2e1",
   "metadata": {
    "tags": [
     "remove-output"
    ]
   },
   "outputs": [
    {
     "data": {
      "text/plain": [
       "100"
      ]
     },
     "execution_count": 15,
     "metadata": {},
     "output_type": "execute_result"
    }
   ],
   "source": [
    "setMAX_AGE(100)"
   ]
  },
  {
   "cell_type": "markdown",
   "id": "db478b4d-cf20-4f84-b39e-746ddb2dec9f",
   "metadata": {},
   "source": [
    "```{note}\n",
    "The set maximum age will be used as the default maximum age for _WholeLife_ unless explicitly defined for a given _WholeLife_ object.\n",
    "```"
   ]
  },
  {
   "cell_type": "markdown",
   "id": "128d3c93-78dc-4b9b-95eb-ab1786115921",
   "metadata": {},
   "source": [
    "(year_mon)=\n",
    "## Setting Current Date"
   ]
  },
  {
   "cell_type": "markdown",
   "id": "5a785ce7-c247-4418-a465-3c13c9e82178",
   "metadata": {},
   "source": [
    "Setting the current year and month is required for the defined stochastic mortality, interest rate and inflation models. The defined models are effectively time series models built on historical data.\n",
    "\n",
    "Relative to the last month that the models were fitted on, setting the current year and month defines the number of months ahead the models must be predicted for. In practice the models should be as up to date as possible"
   ]
  },
  {
   "cell_type": "code",
   "execution_count": 21,
   "id": "83ee1478-64cc-43e1-81a0-eb0baf5b9a22",
   "metadata": {
    "tags": [
     "remove-output"
    ]
   },
   "outputs": [
    {
     "data": {
      "text/plain": [
       "2019.0"
      ]
     },
     "execution_count": 21,
     "metadata": {},
     "output_type": "execute_result"
    }
   ],
   "source": [
    "setYEAR_MON(2019)"
   ]
  }
 ],
 "metadata": {
  "kernelspec": {
   "display_name": "Julia 1.7.2",
   "language": "julia",
   "name": "julia-1.7"
  },
  "language_info": {
   "file_extension": ".jl",
   "mimetype": "application/julia",
   "name": "julia",
   "version": "1.7.2"
  }
 },
 "nbformat": 4,
 "nbformat_minor": 5
}
