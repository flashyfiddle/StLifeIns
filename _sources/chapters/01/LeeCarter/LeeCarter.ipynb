{
 "cells": [
  {
   "cell_type": "markdown",
   "id": "19192ffe-ce46-4662-9898-bde81a70fcd5",
   "metadata": {},
   "source": [
    "# Lee Carter"
   ]
  },
  {
   "cell_type": "markdown",
   "id": "22f1cc26-a316-46d8-9b4e-1f56969e73b6",
   "metadata": {},
   "source": [
    "## Packages"
   ]
  },
  {
   "cell_type": "markdown",
   "id": "3251f0e9-e4fd-424d-a2ea-cc4678f98d89",
   "metadata": {},
   "source": [
    "The demography package allows you to access data from directly from the [Human Mortality Database](https://www.mortality.org/). The StMoMo package allows one to fit a variety of mortality models."
   ]
  },
  {
   "cell_type": "code",
   "execution_count": 11,
   "id": "9b4d681a-1850-4e8c-8585-a74f91645d79",
   "metadata": {},
   "outputs": [],
   "source": [
    "library(StMoMo)\n",
    "library(demography)\n",
    "library(rjson)"
   ]
  },
  {
   "cell_type": "markdown",
   "id": "6a58b9d8-905e-46d5-ab73-1c97663c6611",
   "metadata": {},
   "source": [
    "## Data"
   ]
  },
  {
   "cell_type": "markdown",
   "id": "bbc606c0-b59e-4799-b64f-3dab8c86f636",
   "metadata": {},
   "source": [
    "We import the data for _England and Whales_. Since we're aiming to fit the Poisson and Negative Binomial versions of the Lee-Carter model, we'll be using the central mortality data."
   ]
  },
  {
   "cell_type": "code",
   "execution_count": 15,
   "id": "b0d3b383-74cf-46ea-a0b0-d70702fbaceb",
   "metadata": {},
   "outputs": [],
   "source": [
    "cred <- fromJSON(file=\"../hmd_credentials.json\")\n",
    "username <- cred$username\n",
    "password <- cred$password\n",
    "\n",
    "EWdata <- hmd.mx(country = \"GBRTENW\", username = username, \n",
    "                 password = password, label = \"GBRTENW\")\n",
    "\n",
    "# central exposure data\n",
    "EWMaleCenData <- StMoMoData(EWdata, series = \"male\")\n",
    "EWFemaleCenData <- StMoMoData(EWdata, series = \"female\")"
   ]
  },
  {
   "cell_type": "markdown",
   "id": "5c9a7204-eb3f-4d8e-9952-381e26e600d9",
   "metadata": {},
   "source": [
    "## Model"
   ]
  },
  {
   "cell_type": "code",
   "execution_count": 6,
   "id": "7a56c6df-f7aa-4a82-951a-09f4a30b69ee",
   "metadata": {},
   "outputs": [],
   "source": [
    "ages <- 19:103\n",
    "years <- 1950:2018"
   ]
  },
  {
   "cell_type": "markdown",
   "id": "7f50b4b7-a996-4987-9c8c-4a069a06298b",
   "metadata": {},
   "source": [
    "### Poisson Model"
   ]
  },
  {
   "cell_type": "markdown",
   "id": "ff6fe388-1f26-4f90-b6c8-d4af7866ca5b",
   "metadata": {},
   "source": [
    "We fit the Poisson Lee-Carter model to both the male and female data."
   ]
  },
  {
   "cell_type": "code",
   "execution_count": null,
   "id": "96678b96-10e8-46ce-8194-0b3af34655f8",
   "metadata": {},
   "outputs": [],
   "source": [
    "LCpoisMale <- fit(lc(link = \"log\"), data = EWMaleCenData, ages.fit = ages, years.fit = years)\n",
    "LCpoisFemale <- fit(lc(link = \"log\"), data = EWFemaleCenData, ages.fit = ages, years.fit = years)"
   ]
  },
  {
   "cell_type": "code",
   "execution_count": null,
   "id": "d4eb0cd7-cb3a-44c1-9907-ed6d54895e7b",
   "metadata": {},
   "outputs": [],
   "source": [
    "BIC(LCpoisMale)\n",
    "BIC(LCpoisFemale)\n",
    "\n",
    "LCpoisMale$deviance\n",
    "LCpoisFemale$deviance"
   ]
  },
  {
   "cell_type": "markdown",
   "id": "45660c41-6697-4a8e-9fc4-54038d03cb55",
   "metadata": {},
   "source": [
    "### Negative Binomial"
   ]
  },
  {
   "cell_type": "markdown",
   "id": "92fbbaec-a2ff-450e-a65a-487828193f37",
   "metadata": {},
   "source": [
    "LCnegbinom_algorithm.R contains the code to fit the negative binomial version of the Lee-Carter model. The code is an implementation of the algorithm described in _Uncertainty in Mortality Forecasting: An Extension to the Classical Lee-Carter Approach_ in Li2009."
   ]
  },
  {
   "cell_type": "code",
   "execution_count": 10,
   "id": "c5bcb5eb-a205-457d-bfbf-e6e00ba87cc1",
   "metadata": {},
   "outputs": [],
   "source": [
    "# functions to fit negative binomial version of Lee-Carter model\n",
    "source(paste0(getwd(), \"/LCnegbinom_algorithm.R\"))"
   ]
  },
  {
   "cell_type": "markdown",
   "id": "f8a23aee-d0ee-4173-98d9-27e3db9df624",
   "metadata": {},
   "source": [
    "#### Male"
   ]
  },
  {
   "cell_type": "markdown",
   "id": "ca9acf5f-26a1-4382-add2-902e131f0b9a",
   "metadata": {},
   "source": [
    "We gather some of the StMoMo output for convenience. We also set up a list of the Poisson maximum likelihood estimates to use as the initial parameters for the Negative Binomial algorithm iteration."
   ]
  },
  {
   "cell_type": "code",
   "execution_count": null,
   "id": "d5093c66-715d-4be2-9f77-36fff2c79ead",
   "metadata": {},
   "outputs": [],
   "source": [
    "# death-, exposure- and missing data weight matrix\n",
    "dxt <- LCpoisMale$data$Dxt\n",
    "dxt <- dxt[as.integer(rownames(dxt))%in%ages, as.integer(colnames(dxt))%in%years]\n",
    "Ext <- LCpoisMale$data$Ext\n",
    "Ext <- Ext[as.integer(rownames(Ext))%in%ages, as.integer(colnames(Ext))%in%years]\n",
    "wxt <- LCpoisMale$wxt\n",
    "\n",
    "# fixing layout for Julia read-in\n",
    "ax <- c(LCpoisMale$ax)\n",
    "bx <- c(LCpoisMale$bx)\n",
    "kt <- c(LCpoisMale$kt)\n",
    "names(ax) <- ages\n",
    "names(bx) <- ages\n",
    "names(kt) <- years\n",
    "# Poisson maximum likelihood estimates of parameters\n",
    "LCpoisMale <- list(ax=ax, bx=bx, kt=kt)"
   ]
  },
  {
   "cell_type": "markdown",
   "id": "9f93254f-fa11-4b8e-a407-473cc1835e8f",
   "metadata": {},
   "source": [
    "We use the Poisson maximum likelihood parameters as the initial parameters for the negative binomial algorithm for faster convergence.\n",
    "\n",
    "Note that the dispersion parameters are estimated using the method of moments\n",
    "$$E(\\lambda_x)=Var\\left(\\frac{D_{xt}}{\\hat{D}_{xt}}\\right)$$\n",
    "\n",
    "We found that the dispersion parameters, especially at the youngest and oldest ages, take some time to converge, while the base Lee-Carter parameters converge reasonably quickly. Hence, we run the model for 2 iterations so that the base Lee-Carter parameters can converge reasonably at most ages and the dispersion parameters can be reestimated according to the new parameters. We then start iteration again using the new initial parameters."
   ]
  },
  {
   "cell_type": "code",
   "execution_count": null,
   "id": "764689ea-c14d-43e3-9cb8-c9cf2607a2d5",
   "metadata": {},
   "outputs": [],
   "source": [
    "# using Poisson maximum likelihood parameters as starting parameters for iteration\n",
    "LCnbMale_init <- LCnegbinom(LCpoisMale, dxt, Ext, wxt, maxiter=2)\n",
    "LCnbMale <- LCnegbinom(LCnbMale_init, dxt, Ext, wxt, maxiter=1000)"
   ]
  },
  {
   "cell_type": "markdown",
   "id": "cd9c5208-585d-4f0e-b522-a02ddd0653dd",
   "metadata": {},
   "source": [
    "#### Female"
   ]
  },
  {
   "cell_type": "markdown",
   "id": "d40c1d22-07ee-4d41-b280-dfa7cd8632bf",
   "metadata": {},
   "source": [
    "We do the same for fitting the female data."
   ]
  },
  {
   "cell_type": "code",
   "execution_count": null,
   "id": "6bf04baa-073c-4dda-b8ed-d7c879f04299",
   "metadata": {},
   "outputs": [],
   "source": [
    "# death-, exposure- and missing data weight matrix\n",
    "dxt <- LCpoisFemale$data$Dxt\n",
    "dxt <- dxt[as.integer(rownames(dxt))%in%ages, as.integer(colnames(dxt))%in%years]\n",
    "Ext <- LCpoisFemale$data$Ext\n",
    "Ext <- Ext[as.integer(rownames(Ext))%in%ages, as.integer(colnames(Ext))%in%years]\n",
    "wxt <- LCpoisFemale$wxt\n",
    "\n",
    "# fixing layout for Julia read-in\n",
    "ax <- c(LCpoisFemale$ax)\n",
    "bx <- c(LCpoisFemale$bx)\n",
    "kt <- c(LCpoisFemale$kt)\n",
    "names(ax) <- ages\n",
    "names(bx) <- ages\n",
    "names(kt) <- years\n",
    "# Poisson maximum likelihood estimates of parameters\n",
    "LCpoisFemale <- list(ax=ax, bx=bx, kt=kt)"
   ]
  },
  {
   "cell_type": "code",
   "execution_count": null,
   "id": "3c4980fe-cb44-41a2-aa83-74c7a0e4e5a8",
   "metadata": {},
   "outputs": [],
   "source": [
    "# using Poisson maximum likelihood parameters as starting parameters for iteration\n",
    "LCnbFemale_init <- LCnegbinom(LCpoisFemale, dxt, Ext, wxt, maxiter=2)\n",
    "LCnbFemale <- LCnegbinom(LCnbFemale_init, dxt, Ext, wxt, maxiter=1000)"
   ]
  },
  {
   "cell_type": "code",
   "execution_count": null,
   "id": "d4723d4e-ed8c-4abc-ba98-3ac2207ab34f",
   "metadata": {},
   "outputs": [],
   "source": [
    "LCnbFemale$deviance"
   ]
  },
  {
   "cell_type": "markdown",
   "id": "9c189bae-ddfa-44cc-a78a-7653f285f4e8",
   "metadata": {},
   "source": [
    "We fit random walks with drift to $\\kappa_t$ of each model. We note that the Negative Binomial Lee-Carter models will have broader forecast intervals (as expected) due to the larger standard deviations of the random walk models."
   ]
  },
  {
   "cell_type": "code",
   "execution_count": null,
   "id": "36e5ca47-2ba6-47f4-baba-33fc5f67f767",
   "metadata": {},
   "outputs": [],
   "source": [
    "# Fitting Random Walks with drift\n",
    "arima(diff(as.vector(LCpoisMale$kt)), order = c(0, 0, 0), method = \"ML\")\n",
    "arima(diff(as.vector(LCpoisFemale$kt)), order = c(0, 0, 0), method = \"ML\")\n",
    "arima(diff(LCnbMale$kt), order = c(0, 0, 0), method = \"ML\")\n",
    "arima(diff(LCnbFemale$kt), order = c(0, 0, 0), method = \"ML\")"
   ]
  },
  {
   "cell_type": "code",
   "execution_count": null,
   "id": "6c3505d5-706c-45cf-ab62-d65e3d6fa26b",
   "metadata": {},
   "outputs": [],
   "source": [
    "# Fitting Random Walks with drift\n",
    "LCpoisMale_arima <- arima(diff(as.vector(LCpoisMale$kt)), order = c(0, 0, 0), method = \"ML\")\n",
    "LCpoisFemale_arima <- arima(diff(as.vector(LCpoisFemale$kt)), order = c(0, 0, 0), method = \"ML\")\n",
    "LCnbMale_arima <- arima(diff(LCnbMale$kt), order = c(0, 0, 0), method = \"ML\")\n",
    "LCnbFemale_arima <- arima(diff(LCnbFemale$kt), order = c(0, 0, 0), method = \"ML\")"
   ]
  },
  {
   "cell_type": "markdown",
   "id": "3f739e17-9cfb-4b90-8b63-28b7503888ad",
   "metadata": {},
   "source": [
    "## Save Model"
   ]
  },
  {
   "cell_type": "code",
   "execution_count": null,
   "id": "9c41f7d5-a6d8-4ce7-a13c-8e9f55d7d962",
   "metadata": {
    "jupyter": {
     "source_hidden": true
    },
    "tags": []
   },
   "outputs": [],
   "source": [
    "collect_arima_info <- function(y, model, manual_diff_order=0){\n",
    "  order <- c(model$call$order[[2]], model$call$order[[3]], model$call$order[[4]])\n",
    "  order[2] <- order[2] + manual_diff_order\n",
    "  collected <- list(order=order, y=y, e=append(rep(0, manual_diff_order), as.vector(model$residuals)))\n",
    "  if (order[1] >= 1){\n",
    "    collected[[\"phi\"]] <- as.vector(model$coef[1:order[1]])\n",
    "  } else{\n",
    "    collected[[\"phi\"]] <- 0\n",
    "  }\n",
    "  \n",
    "  if (order[3] >= 1){\n",
    "    collected[[\"theta\"]] <- as.vector(model$coef[(order[1]+1):(order[1]+order[3])])\n",
    "  } else{\n",
    "    collected[[\"theta\"]] <- 0\n",
    "  }\n",
    "  \n",
    "  collected[[\"mu\"]] <- ifelse(any(\"intercept\" %in% names(model$coef)), model$coef[[\"intercept\"]], 0)\n",
    "  collected[[\"sigma\"]] <- model$sigma\n",
    "  return(collected)\n",
    "}"
   ]
  },
  {
   "cell_type": "code",
   "execution_count": null,
   "id": "6f9a1a6e-e06c-496b-8e20-241ea6dbcdd8",
   "metadata": {},
   "outputs": [],
   "source": [
    "LCpoisMale[[\"kt\"]] <- collect_arima_info(y=LCpoisMale$kt, model=LCpoisMale_arima, manual_diff_order=1)\n",
    "LCpoisFemale[[\"kt\"]] <- collect_arima_info(y=LCpoisFemale$kt, model=LCpoisFemale_arima, manual_diff_order=1)\n",
    "LCnbMale[[\"kt\"]] <- collect_arima_info(y=LCnbMale$kt, model=LCnbMale_arima, manual_diff_order=1)\n",
    "LCnbFemale[[\"kt\"]] <- collect_arima_info(y=LCnbFemale$kt, model=LCnbFemale_arima, manual_diff_order=1)"
   ]
  },
  {
   "cell_type": "code",
   "execution_count": null,
   "id": "d722a25d-0dc6-4235-8d42-f7002d3cb2d9",
   "metadata": {},
   "outputs": [],
   "source": [
    "save(LCpoisMale, LCpoisFemale, LCnbMale, LCnbFemale, file = \"LeeCarter.RData\", compress = \"gzip\")"
   ]
  }
 ],
 "metadata": {
  "kernelspec": {
   "display_name": "R",
   "language": "R",
   "name": "ir"
  },
  "language_info": {
   "codemirror_mode": "r",
   "file_extension": ".r",
   "mimetype": "text/x-r-source",
   "name": "R",
   "pygments_lexer": "r",
   "version": "4.1.3"
  }
 },
 "nbformat": 4,
 "nbformat_minor": 5
}
