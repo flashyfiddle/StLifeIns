{
 "cells": [
  {
   "cell_type": "markdown",
   "id": "bcb4d174-dadf-4e33-9b48-553b8854a5bd",
   "metadata": {},
   "source": [
    "# PLAT"
   ]
  },
  {
   "cell_type": "markdown",
   "id": "1e223283-1c16-4b0b-ae42-fd769cabe296",
   "metadata": {},
   "source": [
    "## Packages"
   ]
  },
  {
   "cell_type": "markdown",
   "id": "d9e2df09-db85-4bc5-a7ab-ba22f6221afb",
   "metadata": {},
   "source": [
    "The demography package allows you to access data from directly from the [Human Mortality Database](https://www.mortality.org/). The StMoMo package allows one to fit a variety of mortality models."
   ]
  },
  {
   "cell_type": "code",
   "execution_count": 4,
   "id": "dacb8086-bcee-4ad5-8e78-28b2e407f339",
   "metadata": {},
   "outputs": [],
   "source": [
    "library(StMoMo) # used to fit models\n",
    "library(demography) # used to access data from the mortality database\n",
    "library(TSA) # time series analysis\n",
    "library(forecast) # time series forecast package\n",
    "library(rjson)"
   ]
  },
  {
   "cell_type": "markdown",
   "id": "ca238d90-e346-4cee-ad77-008b9f836de0",
   "metadata": {},
   "source": [
    "## Data"
   ]
  },
  {
   "cell_type": "markdown",
   "id": "8655a1c8-d932-4e2f-8d8e-fbf275c43ebf",
   "metadata": {},
   "source": [
    "We import the data for _England and Whales_. Since we're aiming to fit the Poisson and Negative Binomial versions of the Lee-Carter model, we'll be using the central mortality data."
   ]
  },
  {
   "cell_type": "code",
   "execution_count": 10,
   "id": "b9c0f5f4-6dc5-482d-adad-95607d92355f",
   "metadata": {},
   "outputs": [],
   "source": [
    "cred <- fromJSON(file=\"../hmd_credentials.json\")\n",
    "username <- cred$username\n",
    "password <- cred$password\n",
    "\n",
    "country_code = \"GBRTENW\"\n",
    "\n",
    "EWdata <- hmd.mx(country = country_code, username = username, \n",
    "                 password = password, label = country_code)\n",
    "\n",
    "# central exposure data\n",
    "EWMaleCenData <- StMoMoData(EWdata, series = \"male\")\n",
    "EWFemaleCenData <- StMoMoData(EWdata, series = \"female\")"
   ]
  },
  {
   "cell_type": "markdown",
   "id": "fa3bbe9a-8199-48ff-bf29-3250fe53558f",
   "metadata": {},
   "source": [
    "## Model"
   ]
  },
  {
   "cell_type": "markdown",
   "id": "eb93600e-fd20-4c16-9b51-4f37fb9fff32",
   "metadata": {},
   "source": [
    "### Defining the Model"
   ]
  },
  {
   "cell_type": "markdown",
   "id": "b76c82ce-874b-4f81-bd06-9bad4cb09a0d",
   "metadata": {},
   "source": [
    "Ages, years and cohorts to be fitted"
   ]
  },
  {
   "cell_type": "code",
   "execution_count": 6,
   "id": "f2cc259f-ae12-4bba-bd67-b8b298a8da92",
   "metadata": {},
   "outputs": [],
   "source": [
    "ages <- 19:103\n",
    "years <- 1950:2018\n",
    "cohorts <- (years[1] - ages[length(ages)]):(years[length(years)] - ages[1])\n",
    "zero.cohorts <- cohorts[cohorts < 1855]\n",
    "wxt <- genWeightMat(ages = ages, years = years, zeroCohorts = zero.cohorts)"
   ]
  },
  {
   "cell_type": "code",
   "execution_count": null,
   "id": "00a73da0-df7c-4f80-ab79-6e17e526cc5a",
   "metadata": {
    "jupyter": {
     "source_hidden": true
    },
    "tags": []
   },
   "outputs": [],
   "source": [
    "f2 <- function(x, ages) mean(ages) - x\n",
    "f3 <- function(x, ages) pmax(mean(ages)-x,0)\n",
    "\n",
    "constPlat <- function(ax, bx, kt, b0x, gc, wxt, ages){\n",
    "  nYears <- dim(wxt)[2]\n",
    "  x <- ages\n",
    "  t <- 1:nYears\n",
    "  c <- (1 - tail(ages, 1)):(nYears - ages[1])\n",
    "  xbar <- mean(x)\n",
    "  #\\sum g(c)=0, \\sum cg(c)=0, \\sum c^2g(c)=0\n",
    "  phiReg <- lm(gc ~ 1 + c + I(c^2), na.action = na.omit)\n",
    "  phi <- coef(phiReg)\n",
    "  gc <- gc - phi[1] - phi[2] * c - phi[3] * c^2\n",
    "  kt[2, ] <- kt[2, ] + 2 * phi[3] * t\n",
    "  kt[1, ] <- kt[1, ] + phi[2] * t + phi[3] * (t^2 - 2 * xbar * t)\n",
    "  ax <- ax + phi[1] - phi[2] * x + phi[3] * x^2\n",
    "  #\\sum kt[i, ] = 0\n",
    "  ci <- rowMeans(kt, na.rm = TRUE)\n",
    "  ax <- ax + ci[1] + ci[2] * (xbar - x) + ci[3] * pmax(xbar - x, 0)\n",
    "  kt[1, ] <- kt[1, ] - ci[1]\n",
    "  kt[2, ] <- kt[2, ] - ci[2]\n",
    "  kt[3, ] <- kt[3, ] - ci[3]\n",
    "  list(ax = ax, bx = bx, kt = kt, b0x = b0x, gc = gc)"
   ]
  },
  {
   "cell_type": "code",
   "execution_count": null,
   "id": "6894fb45-4f97-4261-8e78-f9f162d0bb18",
   "metadata": {},
   "outputs": [],
   "source": [
    "PLAT <- StMoMo(link = \"log\", staticAgeFun = TRUE, periodAgeFun = c(\"1\", f2, f3), \n",
    "               cohortAgeFun = \"1\", constFun = constPlat)"
   ]
  },
  {
   "cell_type": "markdown",
   "id": "dc5400a8-b3e2-4d16-be57-03c6225e0292",
   "metadata": {},
   "source": [
    "### Fitting Model"
   ]
  },
  {
   "cell_type": "code",
   "execution_count": null,
   "id": "9b5656b9-d60d-41ba-a608-09069a44ab9f",
   "metadata": {},
   "outputs": [],
   "source": [
    "PLATM <- fit(PLAT, data = EWMaleCenData, ages.fit = ages, years.fit = years, wxt = wxt)\n",
    "PLATF <- fit(PLAT, data = EWFemaleCenData, ages.fit = ages, years.fit = years, wxt = wxt)"
   ]
  },
  {
   "cell_type": "markdown",
   "id": "ee1e1310-f817-491d-8692-ccd06c0a491c",
   "metadata": {},
   "source": [
    "### Quality of Fit"
   ]
  },
  {
   "cell_type": "code",
   "execution_count": null,
   "id": "df9e77d6-bc87-41b9-bfd9-f115d088a7f9",
   "metadata": {},
   "outputs": [],
   "source": [
    "BIC(PLATM)\n",
    "BIC(PLATF)\n",
    "\n",
    "PLATM$deviance\n",
    "PLATF$deviance"
   ]
  },
  {
   "cell_type": "markdown",
   "id": "b6236fd5-68a5-46c1-90a2-8f897997e736",
   "metadata": {},
   "source": [
    "### Fitting Arima Models for kt1, kt2, kt3"
   ]
  },
  {
   "cell_type": "code",
   "execution_count": null,
   "id": "eac9c286-78a0-4af5-9ffa-6fece1893028",
   "metadata": {},
   "outputs": [],
   "source": [
    "PLATM_list = list(ax = PLATM$ax, kt = PLATM$kt, gc = PLATM$gc)\n",
    "PLATF_list = list(ax = PLATF$ax, kt = PLATF$kt, gc = PLATF$gc)"
   ]
  },
  {
   "cell_type": "code",
   "execution_count": null,
   "id": "84a6f983-0332-4827-bc6c-4d18f4dd3676",
   "metadata": {},
   "outputs": [],
   "source": [
    "(kt1M <- arima(diff(PLATM$kt[1, ]), order = c(0, 0, 0), include.mean = TRUE, method = \"ML\"))\n",
    "(kt1F <- arima(diff(PLATF$kt[1, ]), order = c(0, 0, 0), include.mean = TRUE, method = \"ML\"))\n",
    "\n",
    "(kt2M <- arima(PLATM$kt[2, ], order = c(1, 0, 0), include.mean = FALSE, method = \"ML\"))\n",
    "(kt2F <- arima(PLATF$kt[2, ], order = c(1, 0, 0), include.mean = FALSE, method = \"ML\"))\n",
    "\n",
    "(kt3M <- arima(PLATM$kt[3, ], order = c(1, 0, 0), include.mean = FALSE, method = \"ML\"))\n",
    "(kt3F <- arima(PLATF$kt[3, ], order = c(1, 0, 0), include.mean = FALSE, method = \"ML\"))\n",
    "\n",
    "(gcM <- arima(PLATM$gc, order = c(1, 0, 0), include.mean=FALSE, method = \"ML\"))\n",
    "(gcF <- arima(PLATF$gc, order = c(1, 0, 0), include.mean=FALSE, method = \"ML\"))"
   ]
  },
  {
   "cell_type": "markdown",
   "id": "76a1c984-19d2-4f8b-94a2-e0ec60b47ca3",
   "metadata": {},
   "source": [
    "## Save Model"
   ]
  },
  {
   "cell_type": "code",
   "execution_count": null,
   "id": "816eb795-2ccd-4a0c-b97d-f56d30a2d0d6",
   "metadata": {},
   "outputs": [],
   "source": [
    "\n",
    "collect_arima_info <- function(y, model, manual_diff_order=0){\n",
    "  order <- c(model$call$order[[2]], model$call$order[[3]], model$call$order[[4]])\n",
    "  order[2] <- order[2] + manual_diff_order\n",
    "  collected <- list(order=order, y=y, e=append(rep(0, manual_diff_order), as.vector(model$residuals)))\n",
    "  if (order[1] >= 1){\n",
    "    collected[[\"phi\"]] <- as.vector(model$coef[1:order[1]])\n",
    "  } else{\n",
    "    collected[[\"phi\"]] <- 0\n",
    "  }\n",
    "  \n",
    "  if (order[3] >= 1){\n",
    "    collected[[\"theta\"]] <- as.vector(model$coef[(order[1]+1):(order[1]+order[3])])\n",
    "  } else{\n",
    "    collected[[\"theta\"]] <- 0\n",
    "  }\n",
    "  \n",
    "  collected[[\"mu\"]] <- ifelse(any(\"intercept\" %in% names(model$coef)), model$coef[[\"intercept\"]], 0)\n",
    "  collected[[\"sigma\"]] <- model$sigma\n",
    "  \n",
    "  # intercept and mean are not the same (https://www.stat.pitt.edu/stoffer/tsa2/Rissues.htm)\n",
    "  # only for ar1 \n",
    "  # if (collected[[\"mu\"]]!=0 & order[1]==1){\n",
    "  #   collected[[\"mu\"]] <- collected[[\"mu\"]]*(1-collected[[\"phi\"]][1])\n",
    "  # }\n",
    "  \n",
    "  return(collected)"
   ]
  },
  {
   "cell_type": "code",
   "execution_count": null,
   "id": "7c0273b3-f141-4769-b7df-1e9e661c542c",
   "metadata": {},
   "outputs": [],
   "source": [
    "PLATM_list[[\"kt\"]] <- list(collect_arima_info(y=PLATM_list[[\"kt\"]][1, ], model=kt1M, manual_diff_order = 1),\n",
    "                      collect_arima_info(y=PLATM_list[[\"kt\"]][2, ], model=kt2M),\n",
    "                      collect_arima_info(y=PLATM_list[[\"kt\"]][3, ], model=kt3M))\n",
    "\n",
    "PLATM_list[[\"gc\"]] <- collect_arima_info(y=PLATM_list[[\"gc\"]], model=gcM)\n",
    "\n",
    "PLATF[[\"kt\"]] <- list(collect_arima_info(y=PLATF[[\"kt\"]][1, ], model=kt1F, manual_diff_order = 1),\n",
    "                      collect_arima_info(y=PLATF[[\"kt\"]][2, ], model=kt2F),\n",
    "                      collect_arima_info(y=PLATF[[\"kt\"]][3, ], model=kt3F))\n",
    "\n",
    "PLATF[[\"gc\"]] <- collect_arima_info(y=PLATF[[\"gc\"]], model=gcM)"
   ]
  },
  {
   "cell_type": "code",
   "execution_count": null,
   "id": "ab764342-57a8-4ce0-a320-13e28ad61c70",
   "metadata": {},
   "outputs": [],
   "source": [
    "save(PLATM, PLATF, file = \"PLAT.RData\", compress = \"gzip\")"
   ]
  }
 ],
 "metadata": {
  "kernelspec": {
   "display_name": "R",
   "language": "R",
   "name": "ir"
  },
  "language_info": {
   "codemirror_mode": "r",
   "file_extension": ".r",
   "mimetype": "text/x-r-source",
   "name": "R",
   "pygments_lexer": "r",
   "version": "4.1.3"
  }
 },
 "nbformat": 4,
 "nbformat_minor": 5
}
