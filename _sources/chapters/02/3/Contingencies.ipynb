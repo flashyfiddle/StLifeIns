{
 "cells": [
  {
   "cell_type": "code",
   "execution_count": null,
   "id": "b244a104-0ab1-4247-9803-e1cfd426ca4f",
   "metadata": {
    "tags": [
     "remove-cell"
    ]
   },
   "outputs": [],
   "source": [
    "cd(\"../../../\")\n",
    "\n",
    "using Pkg\n",
    "\n",
    "Pkg.activate(\".\")\n",
    "# Pkg.update(\"StLifeIns\")\n",
    "Pkg.instantiate()\n",
    "Pkg.precompile()"
   ]
  },
  {
   "cell_type": "code",
   "execution_count": 1,
   "id": "89640796-48b2-4cb6-89f6-e2b0ae8cbdce",
   "metadata": {
    "tags": [
     "remove-cell"
    ]
   },
   "outputs": [
    {
     "data": {
      "text/plain": [
       "true"
      ]
     },
     "execution_count": 1,
     "metadata": {},
     "output_type": "execute_result"
    }
   ],
   "source": [
    "using StLifeIns\n",
    "setGPU()"
   ]
  },
  {
   "cell_type": "markdown",
   "id": "a3b92d4d-83f6-4a87-8728-d011a8a3b71a",
   "metadata": {},
   "source": [
    "(contingency)=\n",
    "# Contingencies"
   ]
  },
  {
   "cell_type": "markdown",
   "id": "102a4ba0-0f0d-4990-bd89-9a9e8c9e3bd9",
   "metadata": {},
   "source": [
    "There are currently 3 different contingencies available:\n",
    "1. InForce()\n",
    "2. OnDeath()\n",
    "3. OnTermination()"
   ]
  },
  {
   "cell_type": "markdown",
   "id": "e9e1cb61-f4de-4fa5-b1a4-b41c89c754f0",
   "metadata": {},
   "source": [
    "## InForce"
   ]
  },
  {
   "cell_type": "markdown",
   "id": "164a8c18-6557-4a68-a481-51bac0f23ee6",
   "metadata": {},
   "source": [
    "If a life is still in force (not dead or terminated), a cashflow with this contingency will pay out.\n",
    "\n",
    "This contingency is suitable for premiums, regular expenses and survival benefits."
   ]
  },
  {
   "cell_type": "code",
   "execution_count": 2,
   "id": "c659f5ac-c9fb-4d67-b2bd-83a827ba9007",
   "metadata": {},
   "outputs": [
    {
     "data": {
      "text/plain": [
       "InForce()"
      ]
     },
     "execution_count": 2,
     "metadata": {},
     "output_type": "execute_result"
    }
   ],
   "source": [
    "InForce()"
   ]
  },
  {
   "cell_type": "markdown",
   "id": "c75a1770-de3d-408e-8b50-aa047c4c9f71",
   "metadata": {},
   "source": [
    "## OnDeath"
   ]
  },
  {
   "cell_type": "markdown",
   "id": "97702634-84aa-40b8-99ce-ef4bd4aea656",
   "metadata": {},
   "source": [
    "If a life dies, a cashflow with this contingency will pay out. The probability of death is affected by the mortality rates specified in the basis.\n",
    "\n",
    "This contingency is suitable for death benefits and death claim expenses."
   ]
  },
  {
   "cell_type": "code",
   "execution_count": 3,
   "id": "0da043c7-82db-458a-976f-d327446a645e",
   "metadata": {},
   "outputs": [
    {
     "data": {
      "text/plain": [
       "OnDeath()"
      ]
     },
     "execution_count": 3,
     "metadata": {},
     "output_type": "execute_result"
    }
   ],
   "source": [
    "OnDeath()"
   ]
  },
  {
   "cell_type": "markdown",
   "id": "2a36776e-5fe3-4577-9cfc-54ef827be7a1",
   "metadata": {},
   "source": [
    "## OnTermination"
   ]
  },
  {
   "cell_type": "markdown",
   "id": "3dabff38-0325-4caa-b385-84b536dfe34f",
   "metadata": {},
   "source": [
    "If a life surrenders its policy, a cashflow with this contingency will pay out. The probability of surrendering is affected by the surrender rates specified in the basis.\n",
    "\n",
    "This contingency is suitable for termination expenses. In cases where a customer needs to pay a cancelation fee on surrender, this contingency can also be used."
   ]
  },
  {
   "cell_type": "code",
   "execution_count": 4,
   "id": "25bdaef9-a269-49be-9af1-4f9ccd1ee86e",
   "metadata": {},
   "outputs": [
    {
     "data": {
      "text/plain": [
       "OnTermination()"
      ]
     },
     "execution_count": 4,
     "metadata": {},
     "output_type": "execute_result"
    }
   ],
   "source": [
    "OnTermination()"
   ]
  }
 ],
 "metadata": {
  "kernelspec": {
   "display_name": "Julia 1.7.2",
   "language": "julia",
   "name": "julia-1.7"
  },
  "language_info": {
   "file_extension": ".jl",
   "mimetype": "application/julia",
   "name": "julia",
   "version": "1.7.2"
  }
 },
 "nbformat": 4,
 "nbformat_minor": 5
}
