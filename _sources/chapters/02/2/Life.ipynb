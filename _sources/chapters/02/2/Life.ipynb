{
 "cells": [
  {
   "cell_type": "code",
   "execution_count": 5,
   "id": "9b978b99-0e98-4c2a-b25c-bbd5cd2c39d3",
   "metadata": {
    "tags": [
     "remove-cell",
     "thebe-init"
    ]
   },
   "outputs": [
    {
     "name": "stderr",
     "output_type": "stream",
     "text": [
      "\u001b[32m\u001b[1m  Activating\u001b[22m\u001b[39m project at `C:\\Users\\User-PC\\PythonProjects\\Tricycle\\StLifeIns`\n"
     ]
    }
   ],
   "source": [
    "cd(\"../../../\")\n",
    "\n",
    "using Pkg\n",
    "\n",
    "Pkg.activate(\".\")\n",
    "# Pkg.update(\"StLifeIns\")\n",
    "Pkg.instantiate()\n",
    "Pkg.precompile()"
   ]
  },
  {
   "cell_type": "code",
   "execution_count": 6,
   "id": "e02e3ce1-a74b-42ab-847b-7c1c241c2134",
   "metadata": {
    "tags": [
     "remove-cell",
     "thebe-init"
    ]
   },
   "outputs": [
    {
     "data": {
      "text/plain": [
       "103"
      ]
     },
     "execution_count": 6,
     "metadata": {},
     "output_type": "execute_result"
    }
   ],
   "source": [
    "using StLifeIns\n",
    "setCPU()\n",
    "setMAX_AGE(103)"
   ]
  },
  {
   "cell_type": "markdown",
   "id": "d12394ad-c7db-404f-bed1-716946f92e3f",
   "metadata": {},
   "source": [
    "(life)=\n",
    "# Life"
   ]
  },
  {
   "cell_type": "markdown",
   "id": "3eaf0469-b544-4efd-bf8a-f74bd0be1131",
   "metadata": {},
   "source": [
    "There are currently 2 possible __Life__ objects available\n",
    " * [WholeLife](whole_life)\n",
    " * [TermLife](term_life)"
   ]
  },
  {
   "cell_type": "markdown",
   "id": "460426fa-7ca9-439e-acab-707f29858158",
   "metadata": {},
   "source": [
    "The main features relating to a _Life_ object can be summarised as:\n",
    "1. Each life has an ID so that policies can be theoretically combined into a single policy where all cashflows are explicitly dependent on the same life (allowing for the extra variance that is typically disregarded).\n",
    "2. Age is specified to the month, so that valuations can be performed more frequently and accurately\n",
    "3. The term in force can be specified for a life, such that valuations can be performed at the start of the contract or midway through without requiring separate functions."
   ]
  },
  {
   "cell_type": "markdown",
   "id": "9e60d7db-ab2e-4bbd-b826-4592bc1007d2",
   "metadata": {},
   "source": [
    "(whole_life)=\n",
    "## WholeLife"
   ]
  },
  {
   "cell_type": "markdown",
   "id": "3ba3b3a0-8ccf-4ac8-afb1-c1640f1312a1",
   "metadata": {},
   "source": [
    "### Definition and Usage"
   ]
  },
  {
   "cell_type": "markdown",
   "id": "165ced2a-3724-4c4c-8b49-c10d16527e1e",
   "metadata": {},
   "source": [
    "A _WholeLife_ is a life that end on either death or termination.\n",
    "\n",
    "The use of this type of _Life_ would be appropriate for products such as whole life\n",
    "assurances and annuities."
   ]
  },
  {
   "cell_type": "markdown",
   "id": "06ffe7a1-43f6-435e-8937-49e26100b168",
   "metadata": {},
   "source": [
    "### Fields"
   ]
  },
  {
   "cell_type": "markdown",
   "id": "3e071d1b-12e3-41ab-8f58-b102d8cfb9e4",
   "metadata": {},
   "source": [
    "A maximum age needs to be specified for a WholeLife\n",
    "so that calculations can be done. Truncating the lifetime means that a [WholeLife](whole_life).\n",
    "is evaluated much the same as a [TermLife](term_life)."
   ]
  },
  {
   "cell_type": "markdown",
   "id": "c1506354-dbe1-428e-96a6-cca68c39cec4",
   "metadata": {},
   "source": [
    "- id::Int64: an identifier of the life.\n",
    "- male::Bool: gender indicator (true = male, false = female).\n",
    "- age::Float64: exact age to month, e.g. 40 and 2 months = 40+2/12.\n",
    "- term_if::Int16: number of months that have already passed sinced initial inception.\n",
    "- max_age::Int8: the age before which the life must die."
   ]
  },
  {
   "cell_type": "code",
   "execution_count": 9,
   "id": "5c39911a-246f-4ad2-8ab2-67149c153939",
   "metadata": {},
   "outputs": [
    {
     "data": {
      "text/plain": [
       "WholeLife(1010101, true, 80.08333333333333, 181, 103, 275)"
      ]
     },
     "execution_count": 9,
     "metadata": {},
     "output_type": "execute_result"
    }
   ],
   "source": [
    "whole_life = WholeLife(1010101, true, 80+1/12, 181)"
   ]
  },
  {
   "cell_type": "markdown",
   "id": "28d2da06-47cf-491e-9fdd-9d1fe32675a7",
   "metadata": {},
   "source": [
    "(term_life)=\n",
    "## Term Life"
   ]
  },
  {
   "cell_type": "markdown",
   "id": "82ed7081-8a94-48e2-985c-6394a9b307a8",
   "metadata": {},
   "source": [
    "### Definition and Usage"
   ]
  },
  {
   "cell_type": "markdown",
   "id": "f6d91341-2ea9-4c8a-ade9-1d3f267bf884",
   "metadata": {},
   "source": [
    "A _TermLife_ is a life that ends on death or after some prespecified term, whichever is first.\n",
    "\n",
    "The use of this _Life_ would be appropriate for products such as term assurances\n",
    "and endowment assurances."
   ]
  },
  {
   "cell_type": "markdown",
   "id": "51cf6630-3841-416f-abf5-9ba663f33c45",
   "metadata": {},
   "source": [
    "### Fields"
   ]
  },
  {
   "cell_type": "markdown",
   "id": "9531a9b6-82f4-4ffb-a994-859e0ec2a008",
   "metadata": {},
   "source": [
    "The additional _term_ field can be noted for the _TermLife_, defining the the condition on which the life will \"end\" excluding death."
   ]
  },
  {
   "cell_type": "markdown",
   "id": "e83e1bc4-2c2b-4878-82ac-6dbfdc7a0d05",
   "metadata": {},
   "source": [
    "```{note}\n",
    "A _TermLife_ also requires a max_age, although this will only truncate the life if the term would push the age past the maximum age, which in common use cases is unlikely.\n",
    "```"
   ]
  },
  {
   "cell_type": "markdown",
   "id": "2246053a-0c50-4989-8f8c-406f9e321313",
   "metadata": {},
   "source": [
    "- id::Int64: an identifier of the life.\n",
    "- male::Bool: gender indicator (true = male, false = female).\n",
    "- age::Float64: exact age to month, e.g. 40 and 2 months = 40+2/12.\n",
    "- term::Int16: the term lifetime in months defined at inception before which or at which the life must end.\n",
    "- term_if::Int16: number of months that have already passed sinced initialinception.\n",
    "- max_age::Int8: the age before which the life must die (else guaranteed to"
   ]
  },
  {
   "cell_type": "code",
   "execution_count": 8,
   "id": "d018d327-8a74-4d4f-959d-9388e0eb0ec3",
   "metadata": {},
   "outputs": [
    {
     "data": {
      "text/plain": [
       "TermLife(101010, false, 47.416666666666664, 300, 0, 103, 300)"
      ]
     },
     "execution_count": 8,
     "metadata": {},
     "output_type": "execute_result"
    }
   ],
   "source": [
    "term_life = TermLife(0101010, false, 47+5/12, 25*12, 0)"
   ]
  },
  {
   "cell_type": "markdown",
   "id": "2912f490-3b37-4973-805b-ae3649b60bb4",
   "metadata": {},
   "source": [
    "```{note}\n",
    "The construction of a life automatically adds an additional field corresponding to the\n",
    "projected maximum (number of months for which the life might be evaluated). The\n",
    "projected maximum is limited by the term of the policy and the maximum age.\n",
    "```"
   ]
  },
  {
   "cell_type": "markdown",
   "id": "d6e403ae-efca-4c38-8d8c-c772542e17c8",
   "metadata": {},
   "source": [
    "```{important}\n",
    "The default maximum age for a _Life_ object is defined by the global variable MAX_AGE. See [setMAX_AGE](max_age).\n",
    "```"
   ]
  }
 ],
 "metadata": {
  "kernelspec": {
   "display_name": "Julia 1.7.2",
   "language": "julia",
   "name": "julia-1.7"
  },
  "language_info": {
   "file_extension": ".jl",
   "mimetype": "application/julia",
   "name": "julia",
   "version": "1.7.2"
  }
 },
 "nbformat": 4,
 "nbformat_minor": 5
}
