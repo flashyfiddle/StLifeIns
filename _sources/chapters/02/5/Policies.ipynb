{
 "cells": [
  {
   "cell_type": "code",
   "execution_count": 1,
   "id": "a120cf95-7632-4e59-96d4-c0686fd271cc",
   "metadata": {
    "tags": [
     "thebe-init",
     "remove-cell"
    ]
   },
   "outputs": [
    {
     "name": "stderr",
     "output_type": "stream",
     "text": [
      "\u001b[32m\u001b[1m  Activating\u001b[22m\u001b[39m project at `C:\\Users\\User-PC\\PythonProjects\\Tricycle\\StLifeIns\\docs`\n"
     ]
    }
   ],
   "source": [
    "cd(\"../../../\")\n",
    "\n",
    "using Pkg\n",
    "\n",
    "Pkg.activate(\".\")\n",
    "# Pkg.update(\"StLifeIns\")\n",
    "Pkg.instantiate()\n",
    "Pkg.precompile()"
   ]
  },
  {
   "cell_type": "code",
   "execution_count": 2,
   "id": "b9c4dcff-ed12-4191-a460-addeffe6a1e4",
   "metadata": {
    "tags": [
     "thebe-init",
     "remove-cell"
    ]
   },
   "outputs": [
    {
     "data": {
      "text/plain": [
       "false"
      ]
     },
     "execution_count": 2,
     "metadata": {},
     "output_type": "execute_result"
    }
   ],
   "source": [
    "using StLifeIns\n",
    "setCPU()"
   ]
  },
  {
   "cell_type": "markdown",
   "id": "77d5ccfb-2075-4296-afd8-baf9dff52ec2",
   "metadata": {},
   "source": [
    "# Policies"
   ]
  },
  {
   "cell_type": "markdown",
   "id": "08442b4f-4172-476b-ac19-5add908c91f1",
   "metadata": {},
   "source": [
    "## Standard Policy"
   ]
  },
  {
   "cell_type": "markdown",
   "id": "dbc76507-afa6-43d4-b87b-b9a6db0c1460",
   "metadata": {},
   "source": [
    "The formulation of a policy is quite simple once an applicable [Life](life) and [Cashflows](cashflows) have been specified. "
   ]
  },
  {
   "cell_type": "markdown",
   "id": "3f5ff42f-46ab-486c-b67a-f39b60becaff",
   "metadata": {},
   "source": [
    "* product::String: a character string name.\n",
    "* life::[Life](life): the life to which the policy applies. A life can be [WholeLife](whole_life) or [TermLife](term_life).\n",
    "* premiums::[Cashflows](cashflows): a vector of premium cashflows (must have all positive amount).\n",
    "* benefits::[Cashflows](cashflows): a vector of benefits cashflows (must have all negative amount).\n",
    "* expenses::[Cashflows](cashflows): a vector of expenses cashflows (must have all negative amount).\n",
    "* penalties::[Cashflows](cashflows): a vector of penalties cashflows (must have all positive amount)."
   ]
  },
  {
   "cell_type": "markdown",
   "id": "70df60a6-f252-4b1d-9e87-29011a883b2e",
   "metadata": {},
   "source": [
    "## Examples"
   ]
  },
  {
   "cell_type": "markdown",
   "id": "d6a5966c-3d74-4aa0-924a-69b198fd1bdb",
   "metadata": {},
   "source": [
    "### Whole Life Assurance"
   ]
  },
  {
   "cell_type": "code",
   "execution_count": 8,
   "id": "594abb4b-5bcd-49a9-88e8-0ed180d82c69",
   "metadata": {},
   "outputs": [
    {
     "data": {
      "text/plain": [
       "StandardPolicy(\"Whole Life Assurance\", WholeLife(101010, false, 47.416666666666664, 0, 120, 871), Cashflow[RecurringCashflow(\"prem\", 100.0, 0.0, 1, 12, false, InForce())], Cashflow[AnyTimeCashflow(\"Death Benefit\", -50000.0, 0.0, true, OnDeath())], Cashflow[RecurringCashflow(\"Regular Expenses\", -10.0, 0.0, 1, 12, true, InForce()), AnyTimeCashflow(\"Death Claim Expense\", -200.0, 0.0, true, OnDeath()), AnyTimeCashflow(\"Termination Expense\", -100.0, 0.0, true, OnTermination())], Cashflow[])"
      ]
     },
     "execution_count": 8,
     "metadata": {},
     "output_type": "execute_result"
    }
   ],
   "source": [
    "policy_name = \"Whole Life Assurance\"\n",
    "life = WholeLife(0101010, false, 47+5/12, 0)\n",
    "\n",
    "# level monthly premiums of 100 in advance, applicable from the first month\n",
    "premiums = [RecurringCashflow(\"prem\", 100, 0, 1, 12, false, InForce())]\n",
    "\n",
    "# benefit of 50000 on death, payable in arrears\n",
    "benefits = [AnyTimeCashflow(\"Death Benefit\", -50000, 0, true, OnDeath())]\n",
    "\n",
    "# level monthly expenses of 10 in arrears, applicable from the first month\n",
    "# claim expenses of 200 on death to term in arrears\n",
    "# termination of contract expense of 100 in arrears\n",
    "expenses = [RecurringCashflow(\"Regular Expenses\", -10, 0, 1, 12, true, InForce()),\n",
    "            AnyTimeCashflow(\"Death Claim Expense\", -200, 0, true, OnDeath()),\n",
    "            AnyTimeCashflow(\"Termination Expense\", -100, 0, true, OnTermination())]\n",
    "\n",
    "penalties = []\n",
    "\n",
    "StandardPolicy(policy_name, life, premiums, benefits, expenses, penalties)"
   ]
  },
  {
   "cell_type": "markdown",
   "id": "e705b8f6-3b9a-410b-8d22-40e483f621ff",
   "metadata": {},
   "source": [
    "### Whole Life Annuity"
   ]
  },
  {
   "cell_type": "code",
   "execution_count": 11,
   "id": "34be2fc6-84ed-41f8-ac8d-7fba5774eda5",
   "metadata": {},
   "outputs": [
    {
     "data": {
      "text/plain": [
       "StandardPolicy(\"Whole Life Assurance\", WholeLife(101010, false, 65.0, 0, 120, 660), Cashflow[PointCashflow(\"prem\", 1.0e6, 1, false, InForce())], Cashflow[RecurringCashflow(\"annuity payments\", -8333.333333333334, 0.0, 1, 12, false, InForce())], Cashflow[RecurringCashflow(\"Regular Expenses\", -10.0, 0.0, 1, 12, true, InForce())], Cashflow[])"
      ]
     },
     "execution_count": 11,
     "metadata": {},
     "output_type": "execute_result"
    }
   ],
   "source": [
    "policy_name = \"Whole Life Assurance\"\n",
    "life = WholeLife(0101010, false, 65, 0)\n",
    "\n",
    "# premium payable upfront\n",
    "premiums = [PointCashflow(\"Upfront Premium\", 1000000, 1, false, InForce())]\n",
    "\n",
    "# benefit of 50000 on death, payable in arrears\n",
    "benefits = [RecurringCashflow(\"Annuity Payments\", -100000/12, 0, 1, 12, false, InForce())]\n",
    "\n",
    "# level monthly expenses of 10 in arrears, applicable from the first month\n",
    "expenses = [RecurringCashflow(\"Regular Expenses\", -10, 0, 1, 12, true, InForce())]\n",
    "\n",
    "penalties = []\n",
    "\n",
    "StandardPolicy(policy_name, life, premiums, benefits, expenses, penalties)"
   ]
  },
  {
   "cell_type": "markdown",
   "id": "a4ad4340-9884-4198-b938-1faffb99fa45",
   "metadata": {},
   "source": [
    "### Term Assurance"
   ]
  },
  {
   "cell_type": "code",
   "execution_count": 10,
   "id": "0a35b4a2-dbad-46da-ab87-4cf71ff7f236",
   "metadata": {},
   "outputs": [
    {
     "data": {
      "text/plain": [
       "StandardPolicy(\"Term Assurance\", TermLife(101010, false, 47.416666666666664, 300, 0, 120, 300), Cashflow[RecurringCashflow(\"prem\", 100.0, 0.0, 1, 12, false, InForce())], Cashflow[AnyTimeCashflow(\"Death Benefit\", -50000.0, 0.0, true, OnDeath())], Cashflow[RecurringCashflow(\"Regular Expenses\", -10.0, 0.0, 1, 12, true, InForce()), AnyTimeCashflow(\"Death Claim Expense\", -200.0, 0.0, true, OnDeath()), AnyTimeCashflow(\"Termination Expense\", -100.0, 0.0, true, OnTermination())], Cashflow[])"
      ]
     },
     "execution_count": 10,
     "metadata": {},
     "output_type": "execute_result"
    }
   ],
   "source": [
    "policy_name = \"Term Assurance\"\n",
    "life = TermLife(0101010, false, 47+5/12, 25*12, 0)\n",
    "\n",
    "# level monthly premiums of 100 in advance, applicable from the first month\n",
    "premiums = [RecurringCashflow(\"Premium\", 100, 0, 1, 12, false, InForce())]\n",
    "\n",
    "# benefit of 50000 on death or survival to term, payable in arrears\n",
    "benefits = [AnyTimeCashflow(\"Death Benefit\", -50000, 0, true, OnDeath())]\n",
    "\n",
    "# level monthly expenses of 10 in arrears, applicable from the first month\n",
    "# claim expenses of 200 on death to term in arrears\n",
    "# termination of contract expense of 100 in arrears\n",
    "expenses = [RecurringCashflow(\"Regular Expenses\", -10, 0, 1, 12, true, InForce()),\n",
    "            AnyTimeCashflow(\"Death Claim Expense\", -200, 0, true, OnDeath()),\n",
    "            AnyTimeCashflow(\"Termination Expense\", -100, 0, true, OnTermination())]\n",
    "\n",
    "penalties = []\n",
    "\n",
    "StandardPolicy(policy_name, life, premiums, benefits, expenses, penalties)"
   ]
  },
  {
   "cell_type": "markdown",
   "id": "cef3f376-9b23-47e5-af6a-26d5b8577702",
   "metadata": {},
   "source": [
    "### Endowment Assurance"
   ]
  },
  {
   "cell_type": "code",
   "execution_count": 6,
   "id": "b42b4c3d-0bdd-425f-9137-138e071073ba",
   "metadata": {},
   "outputs": [
    {
     "data": {
      "text/plain": [
       "StandardPolicy(\"endowment_assurance\", TermLife(101010, false, 47.416666666666664, 300, 0, 120, 300), Cashflow[RecurringCashflow(\"prem\", 100.0, 0.0, 1, 12, false, InForce())], Cashflow[AnyTimeCashflow(\"Death Benefit\", -50000.0, 0.0, true, OnDeath()), PointCashflow(\"Survival Benefit\", -50000.0, 300, true, InForce())], Cashflow[RecurringCashflow(\"Regular Expenses\", -10.0, 0.0, 1, 12, true, InForce()), AnyTimeCashflow(\"Death Claim Expense\", -200.0, 0.0, true, OnDeath()), PointCashflow(\"Survival Claim Expense\", -200.0, 300, true, InForce()), AnyTimeCashflow(\"Termination Expense\", -100.0, 0.0, true, OnTermination())], Cashflow[])"
      ]
     },
     "execution_count": 6,
     "metadata": {},
     "output_type": "execute_result"
    }
   ],
   "source": [
    "policy_name = \"Endowment Assurance\"\n",
    "life = TermLife(0101010, false, 47+5/12, 25*12, 0)\n",
    "\n",
    "# level monthly premiums of 100 in advance, applicable from the first month\n",
    "premiums = [RecurringCashflow(\"Premium\", 100, 0, 1, 12, false, InForce())]\n",
    "\n",
    "# benefit of 50000 on death or survival to term, payable in arrears\n",
    "benefits = [AnyTimeCashflow(\"Death Benefit\", -50000, 0, true, OnDeath()),\n",
    "            PointCashflow(\"Survival Benefit\", -50000, life.proj_max, true, InForce())]\n",
    "\n",
    "# level monthly expenses of 10 in arrears, applicable from the first month\n",
    "# claim expenses of 200 on death or survival to term in arrears\n",
    "# termination of contract expense of 100 in arrears\n",
    "expenses = [RecurringCashflow(\"Regular Expenses\", -10, 0, 1, 12, true, InForce()),\n",
    "            AnyTimeCashflow(\"Death Claim Expense\", -200, 0, true, OnDeath()),\n",
    "            PointCashflow(\"Survival Claim Expense\", -200, life.proj_max, true, InForce()),\n",
    "            AnyTimeCashflow(\"Termination Expense\", -100, 0, true, OnTermination())]\n",
    "\n",
    "penalties = []\n",
    "\n",
    "StandardPolicy(policy_name, life, premiums, benefits, expenses, penalties)"
   ]
  },
  {
   "cell_type": "markdown",
   "id": "90a01852-dd25-461f-b2d2-417e08b0b13d",
   "metadata": {},
   "source": [
    "```{note}\n",
    "Currently only single-life policies are supported by StLifeIns\n",
    "```"
   ]
  }
 ],
 "metadata": {
  "kernelspec": {
   "display_name": "Julia 1.7.2",
   "language": "julia",
   "name": "julia-1.7"
  },
  "language_info": {
   "file_extension": ".jl",
   "mimetype": "application/julia",
   "name": "julia",
   "version": "1.7.2"
  }
 },
 "nbformat": 4,
 "nbformat_minor": 5
}
