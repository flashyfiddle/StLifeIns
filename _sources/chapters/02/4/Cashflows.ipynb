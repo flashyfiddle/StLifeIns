{
 "cells": [
  {
   "cell_type": "code",
   "execution_count": null,
   "id": "db1f953d-c147-4f0b-a1e0-2dd8f57abf7d",
   "metadata": {
    "tags": [
     "remove-cell"
    ]
   },
   "outputs": [],
   "source": [
    "cd(\"../../../\")\n",
    "\n",
    "using Pkg\n",
    "\n",
    "Pkg.activate(\".\")\n",
    "# Pkg.update(\"StLifeIns\")\n",
    "Pkg.instantiate()\n",
    "Pkg.precompile()"
   ]
  },
  {
   "cell_type": "code",
   "execution_count": 1,
   "id": "0a9a0368-f9f1-410b-8c90-6f2312019162",
   "metadata": {
    "tags": [
     "remove-cell"
    ]
   },
   "outputs": [],
   "source": [
    "using StLifeIns"
   ]
  },
  {
   "cell_type": "markdown",
   "id": "670baa42-2777-42fb-b8bc-2811814f44f7",
   "metadata": {},
   "source": [
    "# Cashflows"
   ]
  },
  {
   "cell_type": "markdown",
   "id": "c47b9510-a833-4e39-9e2c-1edd415cb6fe",
   "metadata": {},
   "source": [
    "Cashflows are effectively defined by a cashflow structure (amount and timing) as well as a chosen [Contingency](contingency)."
   ]
  }
 ],
 "metadata": {
  "kernelspec": {
   "display_name": "Julia 1.7.2",
   "language": "julia",
   "name": "julia-1.7"
  },
  "language_info": {
   "file_extension": ".jl",
   "mimetype": "application/julia",
   "name": "julia",
   "version": "1.7.2"
  }
 },
 "nbformat": 4,
 "nbformat_minor": 5
}
